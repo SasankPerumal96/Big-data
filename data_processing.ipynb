{
 "cells": [
  {
   "cell_type": "code",
   "execution_count": 3,
   "metadata": {},
   "outputs": [],
   "source": [
    "\n",
    "from pyspark.sql import SparkSession\n",
    "\n",
    "# Initialize Spark Session\n",
    "spark = SparkSession.builder \\\n",
    "    .appName(\"Environmental Data Analysis\") \\\n",
    "    .getOrCreate()\n",
    "def load_data_spark(file_path):\n",
    "    return spark.read.csv(file_path, header=True, inferSchema=True)\n",
    "\n",
    "data = load_data_spark('data_dictionary.csv')\n",
    "\n"
   ]
  },
  {
   "cell_type": "code",
   "execution_count": 5,
   "metadata": {},
   "outputs": [
    {
     "name": "stderr",
     "output_type": "stream",
     "text": [
      "24/05/06 19:11:16 WARN SparkStringUtils: Truncated the string representation of a plan since it was too large. This behavior can be adjusted by setting 'spark.sql.debug.maxToStringFields'.\n"
     ]
    },
    {
     "name": "stdout",
     "output_type": "stream",
     "text": [
      "+------------+----------------+-----------------+-----+--------------------+------------+----------+-------------+------------------+------------------------+-----+----------+-----------+----------+---------+--------------+--------------+-------------------+-----+---------+----------+---------------+------------+-----------------+-----------+------------+-------------+------------------+-------------------+------------------------+----------+---------------+-----------------+----------------------+-----------+----------------+----------------+----------------------+---------------------+------+-----------+----------------+---------------------+----------------------+---------------------------+---------+--------------+--------------------+-------------------------+-------+------------+------------+-----------------+--------------+-------------------+-----------+----------------+---------------+\n",
      "|Census Tract|Total Population|California County|  ZIP|Approximate Location|   Longitude|  Latitude|CES 4.0 Score|CES 4.0 Percentile|CES 4.0 Percentile Range|Ozone|Ozone Pctl|      PM2.5|PM2.5 Pctl|Diesel PM|Diesel PM Pctl|Drinking Water|Drinking Water Pctl| Lead|Lead Pctl|Pesticides|Pesticides Pctl|Tox. Release|Tox. Release Pctl|    Traffic|Traffic Pctl|Cleanup Sites|Cleanup Sites Pctl|Groundwater Threats|Groundwater Threats Pctl|Haz. Waste|Haz. Waste Pctl|Imp. Water Bodies|Imp. Water Bodies Pctl|Solid Waste|Solid Waste Pctl|Pollution Burden|Pollution Burden Score|Pollution Burden Pctl|Asthma|Asthma Pctl|Low Birth Weight|Low Birth Weight Pctl|Cardiovascular Disease|Cardiovascular Disease Pctl|Education|Education Pctl|Linguistic Isolation|Linguistic Isolation Pctl|Poverty|Poverty Pctl|Unemployment|Unemployment Pctl|Housing Burden|Housing Burden Pctl|Pop. Char. |Pop. Char. Score|Pop. Char. Pctl|\n",
      "+------------+----------------+-----------------+-----+--------------------+------------+----------+-------------+------------------+------------------------+-----+----------+-----------+----------+---------+--------------+--------------+-------------------+-----+---------+----------+---------------+------------+-----------------+-----------+------------+-------------+------------------+-------------------+------------------------+----------+---------------+-----------------+----------------------+-----------+----------------+----------------+----------------------+---------------------+------+-----------+----------------+---------------------+----------------------+---------------------------+---------+--------------+--------------------+-------------------------+-------+------------+------------+-----------------+--------------+-------------------+-----------+----------------+---------------+\n",
      "|  6019001100|            2780|          Fresno |93706|              Fresno|-119.7816961|36.7096952|        93.18|            100.00|    95-100% (highest ...| 0.06|     82.48|13.90634758|     97.71|    1.123|         98.72|        733.95|              84.39|89.60|    96.47|       1.0|           42.9| 4859.094604|             92.2|1037.095744|       60.38|         70.5|             98.19|              54.25|                   91.17|       3.1|          96.31|                0|                   0.0|        6.0|           79.95|           78.98|                  9.64|                99.93|129.54|      97.22|             7.8|                95.62|                 21.47|                      92.25|     44.5|         93.23|                  16|                    79.37|     76|       98.92|        12.8|            93.83|          30.3|              91.04|      93.16|            9.66|          99.72|\n",
      "|  6077000700|            4680|      San Joaquin|95206|            Stockton|-121.2878729|37.9431727|        86.65|             99.99|    95-100% (highest ...|0.046|     44.98|11.88408494|     72.59|    0.538|         91.15|        389.85|              41.55|77.30|    86.83|     63.13|          73.66| 519.6280009|            52.35| 856.395935|       48.29|         61.9|             97.46|               78.6|                   95.09|      1.27|          88.58|               13|                 91.87|       9.25|           89.28|           73.43|                  8.97|                99.29|105.88|      94.22|            6.88|                88.72|                 20.26|                      88.12|     46.4|         94.47|                29.7|                    95.53|   73.2|       98.39|        19.8|            99.21|          31.2|              92.28|      93.17|            9.66|          99.74|\n",
      "|  6037204920|            2751|      Los Angeles|90023|         Los Angeles|-118.1974975|34.0175004|        82.39|             99.97|    95-100% (highest ...|0.048|     53.73|12.25164028|     89.21|    0.781|         96.55|        787.94|              92.53|92.56|    98.40|       0.0|            0.0| 3682.693278|            87.73|2522.622269|       92.84|        38.75|             92.96|               20.5|                   68.92|     11.62|          99.66|                7|                 66.74|       4.85|           73.08|           77.67|                  9.48|                99.86|  76.1|      82.76|            7.11|                90.89|                 20.87|                      90.15|     52.2|         97.39|                17.1|                    81.55|   62.6|       93.39|         6.4|            61.53|          20.3|              63.97|      83.75|            8.69|          95.79|\n",
      "|  6019000700|            3664|          Fresno |93706|              Fresno|-119.8277069|36.7345353|        81.33|             99.96|    95-100% (highest ...| 0.06|     82.48|13.52093888|     95.88|    0.174|         57.09|        733.95|              84.39|68.39|    77.00|     44.57|          71.59| 1630.342707|            74.93| 690.502159|       35.28|         16.5|             77.32|                9.5|                   44.83|      2.36|          94.12|                0|                   0.0|       5.75|           78.14|           67.85|                  8.28|                 97.4|139.45|      98.24|           10.65|                99.78|                 22.68|                      94.57|     41.4|         90.94|                15.7|                    78.71|   65.7|       95.35|        15.7|            97.35|          35.4|              96.41|      94.64|            9.82|          99.89|\n",
      "|  6019000200|            2689|          Fresno |93706|              Fresno|-119.8055044|36.7354914|        80.75|             99.95|    95-100% (highest ...| 0.06|     82.48|13.81895941|     97.47|     1.39|          99.3|        733.95|              84.39|75.41|    85.12|     16.63|          64.41| 1975.207988|            78.96|909.6508821|       52.26|         10.5|             62.45|              28.25|                   78.05|      0.35|           56.4|                0|                   0.0|        0.0|             0.0|           66.83|                  8.16|                96.94|139.08|      98.17|           10.25|                99.67|                 22.64|                      94.43|     43.6|         92.57|                  20|                    86.56|   72.7|       98.30|        13.7|            95.29|          32.7|              94.16|      95.40|            9.90|          99.95|\n",
      "+------------+----------------+-----------------+-----+--------------------+------------+----------+-------------+------------------+------------------------+-----+----------+-----------+----------+---------+--------------+--------------+-------------------+-----+---------+----------+---------------+------------+-----------------+-----------+------------+-------------+------------------+-------------------+------------------------+----------+---------------+-----------------+----------------------+-----------+----------------+----------------+----------------------+---------------------+------+-----------+----------------+---------------------+----------------------+---------------------------+---------+--------------+--------------------+-------------------------+-------+------------+------------+-----------------+--------------+-------------------+-----------+----------------+---------------+\n",
      "only showing top 5 rows\n",
      "\n"
     ]
    }
   ],
   "source": [
    "# Load the CalEnviroScreen data dictionary\n",
    "calenviroscreen_data_dictionary_path = 'calenviroscreen40resultsdatadictionary_f_2021.csv'\n",
    "calenviroscreen_data_dictionary = load_data_spark(calenviroscreen_data_dictionary_path)\n",
    "calenviroscreen_data_dictionary.show(5)"
   ]
  },
  {
   "cell_type": "code",
   "execution_count": null,
   "metadata": {},
   "outputs": [],
   "source": []
  },
  {
   "cell_type": "code",
   "execution_count": 10,
   "metadata": {},
   "outputs": [
    {
     "name": "stdout",
     "output_type": "stream",
     "text": [
      "+------------+----------------+-----------------+-----+--------------------+------------+----------+-----+-----------+---------+--------------+-----+----------+------------+-----------+-------------+-------------------+----------+-----------------+-----------+----------------+------+----------------+----------------------+---------+--------------------+-------+------------+--------------+\n",
      "|Census Tract|Total Population|California County|  ZIP|Approximate Location|   Longitude|  Latitude|Ozone|      PM2.5|Diesel PM|Drinking Water| Lead|Pesticides|Tox. Release|    Traffic|Cleanup Sites|Groundwater Threats|Haz. Waste|Imp. Water Bodies|Solid Waste|Pollution Burden|Asthma|Low Birth Weight|Cardiovascular Disease|Education|Linguistic Isolation|Poverty|Unemployment|Housing Burden|\n",
      "+------------+----------------+-----------------+-----+--------------------+------------+----------+-----+-----------+---------+--------------+-----+----------+------------+-----------+-------------+-------------------+----------+-----------------+-----------+----------------+------+----------------+----------------------+---------+--------------------+-------+------------+--------------+\n",
      "|  6019001100|            2780|          Fresno |93706|              Fresno|-119.7816961|36.7096952| 0.06|13.90634758|    1.123|        733.95|89.60|       1.0| 4859.094604|1037.095744|         70.5|              54.25|       3.1|                0|        6.0|           78.98|129.54|             7.8|                 21.47|     44.5|                  16|     76|        12.8|          30.3|\n",
      "|  6077000700|            4680|      San Joaquin|95206|            Stockton|-121.2878729|37.9431727|0.046|11.88408494|    0.538|        389.85|77.30|     63.13| 519.6280009| 856.395935|         61.9|               78.6|      1.27|               13|       9.25|           73.43|105.88|            6.88|                 20.26|     46.4|                29.7|   73.2|        19.8|          31.2|\n",
      "|  6037204920|            2751|      Los Angeles|90023|         Los Angeles|-118.1974975|34.0175004|0.048|12.25164028|    0.781|        787.94|92.56|       0.0| 3682.693278|2522.622269|        38.75|               20.5|     11.62|                7|       4.85|           77.67|  76.1|            7.11|                 20.87|     52.2|                17.1|   62.6|         6.4|          20.3|\n",
      "|  6019000700|            3664|          Fresno |93706|              Fresno|-119.8277069|36.7345353| 0.06|13.52093888|    0.174|        733.95|68.39|     44.57| 1630.342707| 690.502159|         16.5|                9.5|      2.36|                0|       5.75|           67.85|139.45|           10.65|                 22.68|     41.4|                15.7|   65.7|        15.7|          35.4|\n",
      "|  6019000200|            2689|          Fresno |93706|              Fresno|-119.8055044|36.7354914| 0.06|13.81895941|     1.39|        733.95|75.41|     16.63| 1975.207988|909.6508821|         10.5|              28.25|      0.35|                0|        0.0|           66.83|139.08|           10.25|                 22.64|     43.6|                  20|   72.7|        13.7|          32.7|\n",
      "+------------+----------------+-----------------+-----+--------------------+------------+----------+-----+-----------+---------+--------------+-----+----------+------------+-----------+-------------+-------------------+----------+-----------------+-----------+----------------+------+----------------+----------------------+---------+--------------------+-------+------------+--------------+\n",
      "only showing top 5 rows\n",
      "\n"
     ]
    }
   ],
   "source": [
    "cal_env_df = calenviroscreen_data_dictionary.select(\n",
    "    'Census Tract', 'Total Population', 'California County', 'ZIP', 'Approximate Location',\n",
    "    'Longitude', 'Latitude', 'Ozone', '`PM2.5`', 'Diesel PM', 'Drinking Water', 'Lead', 'Pesticides',\n",
    "    '`Tox. Release`', 'Traffic', 'Cleanup Sites', 'Groundwater Threats', '`Haz. Waste`', '`Imp. Water Bodies`',\n",
    "    'Solid Waste', 'Pollution Burden', 'Asthma', 'Low Birth Weight', 'Cardiovascular Disease',\n",
    "    'Education', 'Linguistic Isolation', 'Poverty', 'Unemployment', 'Housing Burden'\n",
    ")\n",
    "\n",
    "\n",
    "cal_env_df.show(5)"
   ]
  },
  {
   "cell_type": "code",
   "execution_count": 11,
   "metadata": {},
   "outputs": [
    {
     "name": "stdout",
     "output_type": "stream",
     "text": [
      "+------------+-------------+------------------+------------------------+-----------------+----------------+-----------------------+-------------------+----------------------+------------+---------+--------------------+-------------------+------------------+------------------+\n",
      "|Census Tract|CES 4.0 Score|CES 4.0 Percentile|CES 4.0 Percentile Range|California County|Total Population|Children < 10 years (%)|Pop 10-64 years (%)|Elderly > 64 years (%)|Hispanic (%)|White (%)|African American (%)|Native American (%)|Asian American (%)|Other/Multiple (%)|\n",
      "+------------+-------------+------------------+------------------------+-----------------+----------------+-----------------------+-------------------+----------------------+------------+---------+--------------------+-------------------+------------------+------------------+\n",
      "|  6001400100|         4.85|               2.8|    1-5% (lowest scores)|         Alameda |            3120|                   7.82|              66.12|                 26.06|        3.78|    74.26|                3.43|                  0|             12.53|              5.99|\n",
      "|  6001400200|         4.88|              2.87|    1-5% (lowest scores)|         Alameda |            2007|                  10.46|              66.32|                 23.22|        8.67|    73.49|                2.59|                0.2|              8.52|              6.53|\n",
      "|  6001400300|         11.2|             15.94|                  15-20%|         Alameda |            5051|                  11.42|              73.04|                 15.54|        6.95|    67.99|                9.09|                  0|             12.14|              3.84|\n",
      "|  6001400400|        12.39|             18.97|                  15-20%|         Alameda |            4007|                   9.38|              78.79|                 11.83|        12.1|    63.74|                6.64|               0.87|             10.48|              6.16|\n",
      "|  6001400500|        16.73|             29.74|                  25-30%|         Alameda |            4124|                   9.12|              81.96|                  8.92|        9.46|    45.44|               21.39|                  0|             11.34|             12.37|\n",
      "+------------+-------------+------------------+------------------------+-----------------+----------------+-----------------------+-------------------+----------------------+------------+---------+--------------------+-------------------+------------------+------------------+\n",
      "only showing top 5 rows\n",
      "\n",
      "['Census Tract', 'Total Population', 'California County', 'ZIP', 'Approximate Location', 'Longitude', 'Latitude', 'Ozone', 'PM2.5', 'Diesel PM', 'Drinking Water', 'Lead', 'Pesticides', 'Tox. Release', 'Traffic', 'Cleanup Sites', 'Groundwater Threats', 'Haz. Waste', 'Imp. Water Bodies', 'Solid Waste', 'Pollution Burden', 'Asthma', 'Low Birth Weight', 'Cardiovascular Disease', 'Education', 'Linguistic Isolation', 'Poverty', 'Unemployment', 'Housing Burden', 'Children < 10 years (%)', 'Pop 10-64 years (%)', 'Elderly > 64 years (%)']\n",
      "+-----------------+\n",
      "|California County|\n",
      "+-----------------+\n",
      "|            Yuba |\n",
      "|          Tulare |\n",
      "|       Calaveras |\n",
      "|            Mono |\n",
      "|          Merced |\n",
      "|      Los Angeles|\n",
      "|      Sacramento |\n",
      "|          Sierra |\n",
      "|        San Diego|\n",
      "|    San Francisco|\n",
      "|        El Dorado|\n",
      "|       Santa Cruz|\n",
      "|          Lassen |\n",
      "|          Tehama |\n",
      "|          Madera |\n",
      "|        Imperial |\n",
      "|      Santa Clara|\n",
      "|      San Joaquin|\n",
      "|           Kings |\n",
      "|        Del Norte|\n",
      "+-----------------+\n",
      "only showing top 20 rows\n",
      "\n"
     ]
    }
   ],
   "source": [
    "from pyspark.sql import SparkSession\n",
    "\n",
    "def load_data_spark(file_path):\n",
    "    return spark.read.csv(file_path, header=True, inferSchema=True)\n",
    "\n",
    "# Load the demographic profile data using Spark\n",
    "demographic_profile_path = 'demographic_profile.csv'\n",
    "demographic_profile = load_data_spark(demographic_profile_path)\n",
    "\n",
    "# Display the first few rows of the demographic profile data to understand its structure\n",
    "demographic_profile.show(5)\n",
    "\n",
    "# Merge cal_env_df with demographic_profile on 'Census Tract'\n",
    "merged_df = cal_env_df.join(\n",
    "    demographic_profile.select('Census Tract', 'Children < 10 years (%)', 'Pop 10-64 years (%)', 'Elderly > 64 years (%)'),\n",
    "    on='Census Tract',\n",
    "    how='left' \n",
    ")\n",
    "\n",
    "# Print the columns of the merged DataFrame\n",
    "print(merged_df.columns)\n",
    "\n",
    "# Display unique values in 'California County' column\n",
    "merged_df.select('California County').distinct().show()\n"
   ]
  },
  {
   "cell_type": "code",
   "execution_count": 12,
   "metadata": {},
   "outputs": [
    {
     "name": "stdout",
     "output_type": "stream",
     "text": [
      "+-----------------+\n",
      "|California County|\n",
      "+-----------------+\n",
      "|    San Francisco|\n",
      "|      Santa Clara|\n",
      "|     Contra Costa|\n",
      "|        San Mateo|\n",
      "+-----------------+\n",
      "\n"
     ]
    }
   ],
   "source": [
    "from pyspark.sql.functions import col\n",
    "\n",
    "# Define the list of Bay Area counties, ensure no trailing spaces in the names\n",
    "bay_area_counties = ['Alameda', 'Contra Costa', 'Marin', 'Napa', 'San Francisco', 'San Mateo', 'Santa Clara', 'Solano']\n",
    "\n",
    "# Filter rows where 'California County' is in the list of Bay Area counties\n",
    "ces_bay_df = merged_df.filter(col('California County').isin(bay_area_counties))\n",
    "\n",
    "# Display unique values in 'California County' column from the filtered DataFrame\n",
    "ces_bay_df.select('California County').distinct().show()\n"
   ]
  },
  {
   "cell_type": "code",
   "execution_count": 14,
   "metadata": {},
   "outputs": [
    {
     "name": "stdout",
     "output_type": "stream",
     "text": [
      "root\n",
      " |-- Census Tract: long (nullable = true)\n",
      " |-- Total Population: integer (nullable = true)\n",
      " |-- California County: string (nullable = true)\n",
      " |-- ZIP: integer (nullable = true)\n",
      " |-- Approximate Location: string (nullable = true)\n",
      " |-- Longitude: double (nullable = true)\n",
      " |-- Latitude: double (nullable = true)\n",
      " |-- Ozone: double (nullable = true)\n",
      " |-- PM2.5: double (nullable = true)\n",
      " |-- Diesel PM: double (nullable = true)\n",
      " |-- Drinking Water: string (nullable = true)\n",
      " |-- Lead: string (nullable = true)\n",
      " |-- Pesticides: double (nullable = true)\n",
      " |-- Tox. Release: double (nullable = true)\n",
      " |-- Traffic: string (nullable = true)\n",
      " |-- Cleanup Sites: double (nullable = true)\n",
      " |-- Groundwater Threats: double (nullable = true)\n",
      " |-- Haz. Waste: double (nullable = true)\n",
      " |-- Imp. Water Bodies: integer (nullable = true)\n",
      " |-- Solid Waste: double (nullable = true)\n",
      " |-- Pollution Burden: double (nullable = true)\n",
      " |-- Asthma: string (nullable = true)\n",
      " |-- Low Birth Weight: string (nullable = true)\n",
      " |-- Cardiovascular Disease: string (nullable = true)\n",
      " |-- Education: string (nullable = true)\n",
      " |-- Linguistic Isolation: string (nullable = true)\n",
      " |-- Poverty: string (nullable = true)\n",
      " |-- Unemployment: string (nullable = true)\n",
      " |-- Housing Burden: string (nullable = true)\n",
      " |-- Children < 10 years (%): string (nullable = true)\n",
      " |-- Pop 10-64 years (%): string (nullable = true)\n",
      " |-- Elderly > 64 years (%): string (nullable = true)\n",
      "\n"
     ]
    }
   ],
   "source": [
    "\n",
    "# Print the schema of the DataFrame\n",
    "ces_bay_df.printSchema()\n",
    "\n"
   ]
  },
  {
   "cell_type": "code",
   "execution_count": 17,
   "metadata": {},
   "outputs": [
    {
     "name": "stdout",
     "output_type": "stream",
     "text": [
      "Census Tract 0\n",
      "Total Population 0\n",
      "California County 0\n",
      "ZIP 0\n",
      "Approximate Location 0\n",
      "Longitude 0\n",
      "Latitude 0\n",
      "Ozone 0\n",
      "PM2.5 0\n",
      "Diesel PM 0\n",
      "Drinking Water 0\n",
      "Lead 0\n",
      "Pesticides 0\n",
      "Tox. Release 0\n",
      "Traffic 0\n",
      "Cleanup Sites 0\n",
      "Groundwater Threats 0\n",
      "Haz. Waste 0\n",
      "Imp. Water Bodies 0\n",
      "Solid Waste 0\n",
      "Pollution Burden 0\n",
      "Asthma 0\n",
      "Low Birth Weight 0\n",
      "Cardiovascular Disease 0\n",
      "Education 0\n",
      "Linguistic Isolation 0\n",
      "Poverty 0\n",
      "Unemployment 0\n",
      "Housing Burden 0\n",
      "Children < 10 years (%) 0\n",
      "Pop 10-64 years (%) 0\n",
      "Elderly > 64 years (%) 0\n"
     ]
    }
   ],
   "source": [
    "from pyspark.sql.functions import col, sum as spark_sum\n",
    "\n",
    "na_counts = ces_bay_df.select([\n",
    "    spark_sum(col(c).isNull().cast(\"int\")).alias(c) if \" \" not in c and \".\" not in c else spark_sum(col(f\"`{c}`\").isNull().cast(\"int\")).alias(c)\n",
    "    for c in ces_bay_df.columns\n",
    "])\n",
    "\n",
    "na_counts_row = na_counts.collect()[0]\n",
    "\n",
    "# Iterate through each column and check for nulls\n",
    "na_cols = []\n",
    "for c in ces_bay_df.columns:\n",
    "    na_count = na_counts_row[c]\n",
    "    if na_count != 0:\n",
    "        na_cols.append(c)\n",
    "    print(c, na_count)\n",
    "\n",
    "\n",
    "# Save the DataFrame to CSV\n",
    "ces_bay_df.write.csv('ces_bay.csv', mode='overwrite', header=True)\n"
   ]
  },
  {
   "cell_type": "code",
   "execution_count": 18,
   "metadata": {},
   "outputs": [
    {
     "name": "stdout",
     "output_type": "stream",
     "text": [
      "+------------+----------------+-----------------+-----+--------------------+------------+----------+-----+-----------+---------+--------------+-----+----------+------------+-----------+-------------+-------------------+----------+-----------------+-----------+----------------+------+----------------+----------------------+---------+--------------------+-------+------------+--------------+-----------------------+-------------------+----------------------+\n",
      "|Census Tract|Total Population|California County|  ZIP|Approximate Location|   Longitude|  Latitude|Ozone|      PM2.5|Diesel PM|Drinking Water| Lead|Pesticides|Tox. Release|    Traffic|Cleanup Sites|Groundwater Threats|Haz. Waste|Imp. Water Bodies|Solid Waste|Pollution Burden|Asthma|Low Birth Weight|Cardiovascular Disease|Education|Linguistic Isolation|Poverty|Unemployment|Housing Burden|Children < 10 years (%)|Pop 10-64 years (%)|Elderly > 64 years (%)|\n",
      "+------------+----------------+-----------------+-----+--------------------+------------+----------+-----+-----------+---------+--------------+-----+----------+------------+-----------+-------------+-------------------+----------+-----------------+-----------+----------------+------+----------------+----------------------+---------+--------------------+-------+------------+--------------+-----------------------+-------------------+----------------------+\n",
      "|  6013365002|            5590|     Contra Costa|94801|      North Richmond|-122.3843954|37.9594657|0.032|9.145972972|    0.198|        110.41|71.65|      0.09| 1790.486654|595.5620602|        89.25|              39.25|    13.925|               12|      17.95|           58.44|142.68|            6.85|                 16.39|     43.5|                27.3|   44.7|         4.8|          25.5|                  17.87|              75.17|                  6.96|\n",
      "|  6013312000|            2243|     Contra Costa|94565|           Pittsburg|-121.8695963|38.0152346|0.044|8.590536677|     0.34|        281.21|64.93|       0.0| 732.1706644|824.0693991|         30.0|                5.8|     1.295|               12|       3.45|           52.72|135.71|             6.5|                 20.32|     29.1|                12.8|   54.4|        11.9|          21.3|                  15.16|              69.77|                 15.07|\n",
      "|  6013376000|            6245|     Contra Costa|94801|            Richmond|-122.3624287|37.9410164|0.031|9.032474842|    0.902|        110.41|82.76|       0.0| 3634.516602|462.8477561|         50.8|               29.0|    11.365|               11|        0.4|           54.02|157.78|            6.65|                 17.85|     39.9|                15.8|   51.9|         7.1|          17.8|                  16.09|              77.97|                  5.94|\n",
      "|  6013382000|            8159|     Contra Costa|94804|            Richmond|-122.3229975|37.9159913|0.029|8.981755334|    0.567|        110.41|72.03|       0.0| 1638.343018|2103.833373|         51.0|               32.7|     1.485|               15|        0.2|            56.6|154.52|            6.84|                 15.67|     18.1|                 5.9|   47.8|           9|            25|                  15.09|              72.63|                 12.28|\n",
      "|  6013379000|            7003|     Contra Costa|94804|            Richmond|-122.3567421|37.9283199|0.029|8.990824583|     1.02|        110.41|86.17|       0.0| 2905.460042| 748.040861|        54.65|              31.35|      4.84|               10|        0.0|           54.01| 133.4|            8.31|                 13.67|     38.6|                12.7|   52.8|           6|          26.8|                  17.79|              73.63|                  8.58|\n",
      "|  6013305000|            6561|     Contra Costa|94509|             Antioch|-121.8340512| 38.015682|0.044|8.685952828|    0.195|        241.10|79.80|       0.0| 1441.063314|653.5066128|         12.0|               70.0|       1.1|               19|        0.2|           51.51|162.41|            6.59|                 22.24|     21.9|                13.7|   57.4|        15.1|          18.5|                  18.59|              74.23|                  7.18|\n",
      "|  6085512603|            4634|      Santa Clara|95020|              Gilroy|-121.5626698| 37.001726|0.043|6.389798848|    0.308|        364.13|70.69|   3473.65| 12.37033987|1411.086494|        11.25|               26.6|      0.51|                2|        6.5|           55.23| 59.06|            6.71|                 17.01|       48|                22.1|   41.4|         7.4|          24.4|                  14.67|              79.56|                  5.76|\n",
      "|  6075023200|            3972|    San Francisco|94124|       San Francisco|-122.3861386|37.7277547|0.032|8.797360988|     1.12|        258.79|91.06|      0.08| 324.0106608|356.6352844|         25.4|              106.2|     2.245|               11|      20.75|           58.23|123.98|            8.09|                 11.96|     25.3|                10.4|   27.3|         6.1|            37|                  11.05|              73.74|                 15.21|\n",
      "|  6013377000|            7323|     Contra Costa|94801|            Richmond|-122.3629548|37.9337832|0.029|9.007575715|    0.984|        110.41|75.22|       0.0| 3629.166585|408.0704611|         44.7|              17.25|     7.385|               11|        0.0|           50.45| 156.3|            6.95|                 17.67|     34.9|                11.4|   43.8|        12.5|          26.7|                  14.23|              72.62|                 13.15|\n",
      "|  6075017902|            3008|    San Francisco|94130|       San Francisco| -122.419701|37.8619483|0.031|8.726242016|     0.47|        199.49|63.23|       0.0| 576.7796733|9621.617211|        143.0|              165.0|       2.2|               10|        2.0|           58.31|106.14|            8.59|                  7.42|     11.6|                 6.6|   66.7|        15.8|          19.7|                   3.82|              94.28|                  1.89|\n",
      "|  6013366002|            6627|     Contra Costa|94806|           San Pablo|-122.3509331|37.9690044|0.032|9.142211626|    0.383|        110.41|72.87|       0.2| 1346.466329|418.2672753|        54.55|               17.0|      0.55|               11|        2.2|           52.75|107.76|            5.65|                 18.28|     30.6|                19.9|   41.3|         7.9|          14.8|                  15.04|              75.48|                  9.48|\n",
      "|  6075023103|            2890|    San Francisco|94124|       San Francisco|-122.3759653|37.7356318|0.031|8.768750217|    0.414|        258.79|64.28|      0.03| 339.2096608|340.9741511|        30.75|              151.8|      2.63|               14|       13.9|           54.77|123.98|            7.74|                 11.96|       21|                 4.5|   71.7|         6.4|          22.3|                  25.71|              68.93|                  5.36|\n",
      "|  6013381000|            6521|     Contra Costa|94804|            Richmond|-122.3351024|37.9302081|0.029|9.024962822|     0.53|        110.41|78.42|       0.0| 1975.833293|1237.646061|         38.7|              12.85|     0.355|               11|        0.0|           50.43|129.14|            7.54|                 13.57|     27.3|                10.8|     52|         6.7|          22.7|                  14.25|              77.09|                  8.66|\n",
      "|  6013358000|            6285|     Contra Costa|94572|               Rodeo|-122.2538488|38.0481856|0.035| 8.85589441|    0.305|        110.41|75.45|       0.0| 2106.280029|1752.941985|         22.5|               37.0|     3.295|               10|        1.0|           56.86| 100.6|            6.68|                 16.64|     14.3|                 3.5|   34.4|           7|          17.7|                  16.21|              72.32|                 11.47|\n",
      "|  6075023001|            5398|    San Francisco|94124|       San Francisco|-122.4017602|37.7351925|0.032|8.671445102|     1.33|        258.79|77.85|      0.14| 324.2443339|2378.471154|          3.2|                5.0|      2.02|               10|       5.75|           54.39|123.98|            6.41|                 11.96|     27.5|                19.8|   30.7|         4.8|          25.6|                   9.45|              74.97|                 15.58|\n",
      "|  6013375000|            4897|     Contra Costa|94801|            Richmond|-122.3518215|37.9402568|0.031|9.056934399|    1.139|        110.41|88.01|       0.0| 2481.189982|489.7431912|          7.1|                8.7|     0.725|               10|        0.0|           45.96|146.97|            6.28|                 16.56|     38.9|                17.5|   49.5|         8.9|          29.4|                  18.91|              77.11|                  3.98|\n",
      "|  6013314104|            9278|     Contra Costa|94565|           Bay Point|-121.9443678|38.0232458|0.043|8.805706927|     0.25|        336.18|67.25|       0.0| 2782.920003|1762.104939|          0.5|               10.5|     0.675|                9|        0.7|           49.91|135.71|            5.69|                 20.32|     37.1|                19.6|   32.2|         5.8|          20.6|                  14.67|              76.15|                  9.18|\n",
      "|  6013310000|            6257|     Contra Costa|94565|           Pittsburg|-121.8917858|38.0264843|0.044|8.685257984|    0.152|        281.21|81.50|       0.0| 850.6099855| 535.827933|         51.9|               33.3|     2.535|               12|        0.5|            51.6|135.71|            5.11|                 20.32|     30.1|                13.1|   44.3|         8.2|          14.8|                  18.46|              74.08|                  7.46|\n",
      "|  6013311000|            5329|     Contra Costa|94565|           Pittsburg|-121.8936219|38.0214503|0.044|8.799900706|    0.351|        281.21|80.62|       0.0|       794.0| 1203.55087|         17.7|                6.0|     0.485|               12|        0.0|           50.39|135.71|            5.66|                 20.32|     21.1|                   5|   41.7|         7.7|          24.4|                  15.89|               73.9|                 10.21|\n",
      "|  6085503601|            3383|      Santa Clara|95133|            San Jose|-121.8661537|37.3583881| 0.04|8.930079122|    0.549|        291.53|85.20|       0.0| 183.2713369|2340.271121|        19.15|               16.7|     1.665|                3|        7.5|           55.88| 64.26|            6.09|                 12.94|     29.3|                28.7|   46.9|         3.3|          20.1|                  16.58|              72.95|                 10.46|\n",
      "+------------+----------------+-----------------+-----+--------------------+------------+----------+-----+-----------+---------+--------------+-----+----------+------------+-----------+-------------+-------------------+----------+-----------------+-----------+----------------+------+----------------+----------------------+---------+--------------------+-------+------------+--------------+-----------------------+-------------------+----------------------+\n",
      "only showing top 20 rows\n",
      "\n"
     ]
    }
   ],
   "source": [
    "from pyspark.sql import Window\n",
    "from pyspark.sql.functions import col, expr, coalesce\n",
    "\n",
    "# Define a window specification\n",
    "windowSpec = Window.partitionBy('California County')\n",
    "\n",
    "# Calculate medians and update DataFrame\n",
    "for c in na_cols:\n",
    "    median_df = ces_bay_df.withColumn(c + \"_median\", expr(f\"percentile_approx({c}, 0.5)\").over(windowSpec))\n",
    "    ces_bay_df = ces_bay_df.join(\n",
    "        median_df.select(\"California County\", c + \"_median\"),\n",
    "        on=\"California County\",\n",
    "        how=\"left\"\n",
    "    )\n",
    "    ces_bay_df = ces_bay_df.withColumn(c, coalesce(col(c), col(c + \"_median\"))).drop(c + \"_median\")\n",
    "\n",
    "# Show the DataFrame to confirm changes\n",
    "ces_bay_df.show()\n"
   ]
  },
  {
   "cell_type": "code",
   "execution_count": 22,
   "metadata": {},
   "outputs": [
    {
     "name": "stdout",
     "output_type": "stream",
     "text": [
      "+------------+----------------+-----------------+---+--------------------+---------+--------+-----+-----+---------+--------------+----+----------+------------+-------+-------------+-------------------+----------+-----------------+-----------+----------------+------+----------------+----------------------+---------+--------------------+-------+------------+--------------+-----------------------+-------------------+----------------------+\n",
      "|Census Tract|Total Population|California County|ZIP|Approximate Location|Longitude|Latitude|Ozone|PM2.5|Diesel PM|Drinking Water|Lead|Pesticides|Tox. Release|Traffic|Cleanup Sites|Groundwater Threats|Haz. Waste|Imp. Water Bodies|Solid Waste|Pollution Burden|Asthma|Low Birth Weight|Cardiovascular Disease|Education|Linguistic Isolation|Poverty|Unemployment|Housing Burden|Children < 10 years (%)|Pop 10-64 years (%)|Elderly > 64 years (%)|\n",
      "+------------+----------------+-----------------+---+--------------------+---------+--------+-----+-----+---------+--------------+----+----------+------------+-------+-------------+-------------------+----------+-----------------+-----------+----------------+------+----------------+----------------------+---------+--------------------+-------+------------+--------------+-----------------------+-------------------+----------------------+\n",
      "|           0|               0|                0|  0|                   0|        0|       0|    0|    0|        0|             0|   0|         0|           0|      0|            0|                  0|         0|                0|          0|               0|     0|               0|                     0|        0|                   0|      0|           0|             0|                      0|                  0|                     0|\n",
      "+------------+----------------+-----------------+---+--------------------+---------+--------+-----+-----+---------+--------------+----+----------+------------+-------+-------------+-------------------+----------+-----------------+-----------+----------------+------+----------------+----------------------+---------+--------------------+-------+------------+--------------+-----------------------+-------------------+----------------------+\n",
      "\n"
     ]
    }
   ],
   "source": [
    "from pyspark.sql.functions import col, sum as spark_sum, expr\n",
    "\n",
    "# Create a list to correctly handle column names with special characters in expressions\n",
    "null_counts = ces_bay_df.select([\n",
    "    spark_sum(expr(f\"`{c}`\").isNull().cast(\"int\")).alias(c) if '.' in c or ' ' in c else\n",
    "    spark_sum(col(c).isNull().cast(\"int\")).alias(c)\n",
    "    for c in ces_bay_df.columns\n",
    "])\n",
    "\n",
    "# Show the count of null values in each column\n",
    "null_counts.show()\n"
   ]
  },
  {
   "cell_type": "code",
   "execution_count": 26,
   "metadata": {},
   "outputs": [
    {
     "name": "stdout",
     "output_type": "stream",
     "text": [
      "Number of duplicate rows:  0\n"
     ]
    }
   ],
   "source": [
    "from pyspark.sql.functions import col, row_number, monotonically_increasing_id\n",
    "from pyspark.sql.window import Window\n",
    "\n",
    "window_spec = Window.partitionBy([col('`' + c + '`') if '.' in c or ' ' in c else col(c) for c in ces_bay_df.columns]).orderBy(monotonically_increasing_id())\n",
    "ces_bay_df = ces_bay_df.withColumn(\"row_number\", row_number().over(window_spec))\n",
    "ces_bay_df = ces_bay_df.filter(col(\"`PM2.5`\") > 10).select([\"`PM2.5`\", \"`Tox. Release`\"])\n",
    "duplicate_count = ces_bay_df.filter(col(\"row_number\") > 1).count()\n",
    "print(\"Number of duplicate rows: \", duplicate_count)\n",
    "\n",
    "\n",
    "ces_bay_df = ces_bay_df.drop(\"row_number\")\n"
   ]
  },
  {
   "cell_type": "code",
   "execution_count": 27,
   "metadata": {},
   "outputs": [],
   "source": [
    "# Save the DataFrame to a CSV file\n",
    "ces_bay_df.write.csv('ces_bay_cleaned.csv', mode='overwrite', header=True)\n"
   ]
  }
 ],
 "metadata": {
  "kernelspec": {
   "display_name": "Python 3 (ipykernel)",
   "language": "python",
   "name": "python3"
  },
  "language_info": {
   "codemirror_mode": {
    "name": "ipython",
    "version": 3
   },
   "file_extension": ".py",
   "mimetype": "text/x-python",
   "name": "python",
   "nbconvert_exporter": "python",
   "pygments_lexer": "ipython3",
   "version": "3.11.0"
  }
 },
 "nbformat": 4,
 "nbformat_minor": 2
}
